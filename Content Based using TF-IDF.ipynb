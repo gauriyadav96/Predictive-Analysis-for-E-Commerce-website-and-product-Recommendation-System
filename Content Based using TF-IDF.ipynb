{
 "cells": [
  {
   "cell_type": "code",
   "execution_count": 1,
   "metadata": {},
   "outputs": [],
   "source": [
    "import pandas as pd\n",
    "import numpy as np\n",
    "from sklearn.feature_extraction import text\n",
    "from sklearn.feature_extraction.text import TfidfVectorizer\n",
    "from sklearn.metrics.pairwise import cosine_similarity"
   ]
  },
  {
   "cell_type": "code",
   "execution_count": 2,
   "metadata": {},
   "outputs": [
    {
     "data": {
      "text/html": [
       "<div>\n",
       "<style scoped>\n",
       "    .dataframe tbody tr th:only-of-type {\n",
       "        vertical-align: middle;\n",
       "    }\n",
       "\n",
       "    .dataframe tbody tr th {\n",
       "        vertical-align: top;\n",
       "    }\n",
       "\n",
       "    .dataframe thead th {\n",
       "        text-align: right;\n",
       "    }\n",
       "</style>\n",
       "<table border=\"1\" class=\"dataframe\">\n",
       "  <thead>\n",
       "    <tr style=\"text-align: right;\">\n",
       "      <th></th>\n",
       "      <th>UserId</th>\n",
       "      <th>brand</th>\n",
       "      <th>categories</th>\n",
       "      <th>name</th>\n",
       "      <th>text</th>\n",
       "      <th>title</th>\n",
       "      <th>rating</th>\n",
       "      <th>dateAdded</th>\n",
       "      <th>dateUpdated</th>\n",
       "      <th>ean</th>\n",
       "      <th>...</th>\n",
       "      <th>manufacturerNumber</th>\n",
       "      <th>reviewsdate</th>\n",
       "      <th>dateSeen</th>\n",
       "      <th>didPurchase</th>\n",
       "      <th>doRecommend</th>\n",
       "      <th>reviews_id</th>\n",
       "      <th>sourceURLs</th>\n",
       "      <th>userCity</th>\n",
       "      <th>username</th>\n",
       "      <th>upc</th>\n",
       "    </tr>\n",
       "  </thead>\n",
       "  <tbody>\n",
       "    <tr>\n",
       "      <th>0</th>\n",
       "      <td>AV13O1A8GV-KLJ3akUyj</td>\n",
       "      <td>Universal Music</td>\n",
       "      <td>Movies, Music &amp; Books,Music,R&amp;b,Movies &amp; TV,Mo...</td>\n",
       "      <td>Pink Friday: Roman Reloaded Re-Up (w/dvd)</td>\n",
       "      <td>i love this album. it's very good. more to the...</td>\n",
       "      <td>Just Awesome</td>\n",
       "      <td>5</td>\n",
       "      <td>2017-07-25T00:52:42Z</td>\n",
       "      <td>2018-02-05T08:36:58Z</td>\n",
       "      <td>6.03E+11</td>\n",
       "      <td>...</td>\n",
       "      <td>14331328</td>\n",
       "      <td>11/30/2012</td>\n",
       "      <td>2018-01-15T04:45:00.000Z,2018-01-18T14:30:00.0...</td>\n",
       "      <td>NaN</td>\n",
       "      <td>NaN</td>\n",
       "      <td>NaN</td>\n",
       "      <td>https://redsky.target.com/groot-domain-api/v1/...</td>\n",
       "      <td>Japan</td>\n",
       "      <td>Joshua</td>\n",
       "      <td>6.03E+11</td>\n",
       "    </tr>\n",
       "    <tr>\n",
       "      <th>1</th>\n",
       "      <td>AV14LG0R-jtxr-f38QfS</td>\n",
       "      <td>Lundberg</td>\n",
       "      <td>Food,Packaged Foods,Snacks,Crackers,Snacks, Co...</td>\n",
       "      <td>Lundberg Organic Cinnamon Toast Rice Cakes</td>\n",
       "      <td>Good flavor. This review was collected as part...</td>\n",
       "      <td>Good</td>\n",
       "      <td>5</td>\n",
       "      <td>2017-07-25T05:16:03Z</td>\n",
       "      <td>2018-02-05T11:27:45Z</td>\n",
       "      <td>73416000391</td>\n",
       "      <td>...</td>\n",
       "      <td>574764</td>\n",
       "      <td>7/9/2017</td>\n",
       "      <td>2017-09-16T09:45:00.000Z</td>\n",
       "      <td>True</td>\n",
       "      <td>True</td>\n",
       "      <td>100209113.0</td>\n",
       "      <td>https://www.walmart.com/reviews/product/29775278</td>\n",
       "      <td>Japan</td>\n",
       "      <td>Dorothy W</td>\n",
       "      <td>73416000391</td>\n",
       "    </tr>\n",
       "    <tr>\n",
       "      <th>2</th>\n",
       "      <td>AV14LG0R-jtxr-f38QfS</td>\n",
       "      <td>Lundberg</td>\n",
       "      <td>Food,Packaged Foods,Snacks,Crackers,Snacks, Co...</td>\n",
       "      <td>Lundberg Organic Cinnamon Toast Rice Cakes</td>\n",
       "      <td>Good flavor.</td>\n",
       "      <td>Good</td>\n",
       "      <td>5</td>\n",
       "      <td>2017-07-25T05:16:03Z</td>\n",
       "      <td>2018-02-05T11:27:45Z</td>\n",
       "      <td>73416000391</td>\n",
       "      <td>...</td>\n",
       "      <td>574764</td>\n",
       "      <td>7/9/2017</td>\n",
       "      <td>2017-08-23T10:37:00.000Z</td>\n",
       "      <td>True</td>\n",
       "      <td>True</td>\n",
       "      <td>100209113.0</td>\n",
       "      <td>https://www.walmart.com/reviews/product/29775278</td>\n",
       "      <td>America</td>\n",
       "      <td>Dorothy W</td>\n",
       "      <td>73416000391</td>\n",
       "    </tr>\n",
       "    <tr>\n",
       "      <th>3</th>\n",
       "      <td>AV16khLE-jtxr-f38VFn</td>\n",
       "      <td>K-Y</td>\n",
       "      <td>Personal Care,Medicine Cabinet,Lubricant/Sperm...</td>\n",
       "      <td>K-Y Love Sensuality Pleasure Gel</td>\n",
       "      <td>I read through the reviews on here before look...</td>\n",
       "      <td>Disappointed</td>\n",
       "      <td>1</td>\n",
       "      <td>2017-07-25T16:26:19Z</td>\n",
       "      <td>2018-02-05T11:25:51Z</td>\n",
       "      <td>67981934427</td>\n",
       "      <td>...</td>\n",
       "      <td>67981934427</td>\n",
       "      <td>1/6/2016</td>\n",
       "      <td>2017-09-04T12:18:00.000Z,2017-08-09T02:12:00.000Z</td>\n",
       "      <td>False</td>\n",
       "      <td>False</td>\n",
       "      <td>113026909.0</td>\n",
       "      <td>https://www.walmart.com/reviews/product/43383370</td>\n",
       "      <td>China</td>\n",
       "      <td>Rebecca</td>\n",
       "      <td>67981934427</td>\n",
       "    </tr>\n",
       "    <tr>\n",
       "      <th>4</th>\n",
       "      <td>AV16khLE-jtxr-f38VFn</td>\n",
       "      <td>K-Y</td>\n",
       "      <td>Personal Care,Medicine Cabinet,Lubricant/Sperm...</td>\n",
       "      <td>K-Y Love Sensuality Pleasure Gel</td>\n",
       "      <td>My husband bought this gel for us. The gel cau...</td>\n",
       "      <td>Irritation</td>\n",
       "      <td>1</td>\n",
       "      <td>2017-07-25T16:26:19Z</td>\n",
       "      <td>2018-02-05T11:25:51Z</td>\n",
       "      <td>67981934427</td>\n",
       "      <td>...</td>\n",
       "      <td>67981934427</td>\n",
       "      <td>12/21/2016</td>\n",
       "      <td>2017-09-04T12:18:00.000Z,2017-08-09T02:12:00.000Z</td>\n",
       "      <td>False</td>\n",
       "      <td>False</td>\n",
       "      <td>171267657.0</td>\n",
       "      <td>https://www.walmart.com/reviews/product/43383370</td>\n",
       "      <td>China</td>\n",
       "      <td>Walker557</td>\n",
       "      <td>67981934427</td>\n",
       "    </tr>\n",
       "  </tbody>\n",
       "</table>\n",
       "<p>5 rows × 22 columns</p>\n",
       "</div>"
      ],
      "text/plain": [
       "                 UserId            brand  \\\n",
       "0  AV13O1A8GV-KLJ3akUyj  Universal Music   \n",
       "1  AV14LG0R-jtxr-f38QfS         Lundberg   \n",
       "2  AV14LG0R-jtxr-f38QfS         Lundberg   \n",
       "3  AV16khLE-jtxr-f38VFn              K-Y   \n",
       "4  AV16khLE-jtxr-f38VFn              K-Y   \n",
       "\n",
       "                                          categories  \\\n",
       "0  Movies, Music & Books,Music,R&b,Movies & TV,Mo...   \n",
       "1  Food,Packaged Foods,Snacks,Crackers,Snacks, Co...   \n",
       "2  Food,Packaged Foods,Snacks,Crackers,Snacks, Co...   \n",
       "3  Personal Care,Medicine Cabinet,Lubricant/Sperm...   \n",
       "4  Personal Care,Medicine Cabinet,Lubricant/Sperm...   \n",
       "\n",
       "                                         name  \\\n",
       "0   Pink Friday: Roman Reloaded Re-Up (w/dvd)   \n",
       "1  Lundberg Organic Cinnamon Toast Rice Cakes   \n",
       "2  Lundberg Organic Cinnamon Toast Rice Cakes   \n",
       "3            K-Y Love Sensuality Pleasure Gel   \n",
       "4            K-Y Love Sensuality Pleasure Gel   \n",
       "\n",
       "                                                text         title  rating  \\\n",
       "0  i love this album. it's very good. more to the...  Just Awesome       5   \n",
       "1  Good flavor. This review was collected as part...          Good       5   \n",
       "2                                       Good flavor.          Good       5   \n",
       "3  I read through the reviews on here before look...  Disappointed       1   \n",
       "4  My husband bought this gel for us. The gel cau...    Irritation       1   \n",
       "\n",
       "              dateAdded           dateUpdated          ean     ...       \\\n",
       "0  2017-07-25T00:52:42Z  2018-02-05T08:36:58Z     6.03E+11     ...        \n",
       "1  2017-07-25T05:16:03Z  2018-02-05T11:27:45Z  73416000391     ...        \n",
       "2  2017-07-25T05:16:03Z  2018-02-05T11:27:45Z  73416000391     ...        \n",
       "3  2017-07-25T16:26:19Z  2018-02-05T11:25:51Z  67981934427     ...        \n",
       "4  2017-07-25T16:26:19Z  2018-02-05T11:25:51Z  67981934427     ...        \n",
       "\n",
       "  manufacturerNumber reviewsdate  \\\n",
       "0           14331328  11/30/2012   \n",
       "1             574764    7/9/2017   \n",
       "2             574764    7/9/2017   \n",
       "3        67981934427    1/6/2016   \n",
       "4        67981934427  12/21/2016   \n",
       "\n",
       "                                            dateSeen didPurchase doRecommend  \\\n",
       "0  2018-01-15T04:45:00.000Z,2018-01-18T14:30:00.0...         NaN         NaN   \n",
       "1                           2017-09-16T09:45:00.000Z        True        True   \n",
       "2                           2017-08-23T10:37:00.000Z        True        True   \n",
       "3  2017-09-04T12:18:00.000Z,2017-08-09T02:12:00.000Z       False       False   \n",
       "4  2017-09-04T12:18:00.000Z,2017-08-09T02:12:00.000Z       False       False   \n",
       "\n",
       "    reviews_id                                         sourceURLs  userCity  \\\n",
       "0          NaN  https://redsky.target.com/groot-domain-api/v1/...     Japan   \n",
       "1  100209113.0   https://www.walmart.com/reviews/product/29775278     Japan   \n",
       "2  100209113.0   https://www.walmart.com/reviews/product/29775278   America   \n",
       "3  113026909.0   https://www.walmart.com/reviews/product/43383370     China   \n",
       "4  171267657.0   https://www.walmart.com/reviews/product/43383370     China   \n",
       "\n",
       "    username          upc  \n",
       "0     Joshua     6.03E+11  \n",
       "1  Dorothy W  73416000391  \n",
       "2  Dorothy W  73416000391  \n",
       "3    Rebecca  67981934427  \n",
       "4  Walker557  67981934427  \n",
       "\n",
       "[5 rows x 22 columns]"
      ]
     },
     "execution_count": 2,
     "metadata": {},
     "output_type": "execute_result"
    }
   ],
   "source": [
    "transcripts=pd.read_csv(\"Replaced.csv\",encoding='ISO-8859-1')\n",
    "transcripts.head()"
   ]
  },
  {
   "cell_type": "code",
   "execution_count": 3,
   "metadata": {},
   "outputs": [
    {
     "name": "stdout",
     "output_type": "stream",
     "text": [
      "(70977, 8611)\n"
     ]
    }
   ],
   "source": [
    "Text=(transcripts['title'].values.astype('U')).tolist()\n",
    "tfidf=text.TfidfVectorizer(input=Text,stop_words=\"english\")\n",
    "matrix=tfidf.fit_transform(Text)\n",
    "print(matrix.shape)"
   ]
  },
  {
   "cell_type": "code",
   "execution_count": 4,
   "metadata": {},
   "outputs": [],
   "source": [
    "### Get Similarity Scores using cosine similarity\n",
    "\n",
    "sim_unigram=cosine_similarity(matrix)"
   ]
  },
  {
   "cell_type": "code",
   "execution_count": 5,
   "metadata": {},
   "outputs": [
    {
     "data": {
      "text/plain": [
       "array([[1., 0., 0., ..., 0., 0., 0.],\n",
       "       [0., 1., 1., ..., 0., 0., 0.],\n",
       "       [0., 1., 1., ..., 0., 0., 0.],\n",
       "       ...,\n",
       "       [0., 0., 0., ..., 1., 0., 0.],\n",
       "       [0., 0., 0., ..., 0., 1., 0.],\n",
       "       [0., 0., 0., ..., 0., 0., 1.]])"
      ]
     },
     "execution_count": 5,
     "metadata": {},
     "output_type": "execute_result"
    }
   ],
   "source": [
    "sim_unigram"
   ]
  },
  {
   "cell_type": "code",
   "execution_count": 6,
   "metadata": {
    "scrolled": true
   },
   "outputs": [],
   "source": [
    "#transcripts.iloc[:,[2,3,10]]\n",
    "\n",
    "def get_similar_articles(x):\n",
    "    return \",\".join(str(transcripts['title'].loc[x.argsort()[-5:-1]]))"
   ]
  },
  {
   "cell_type": "code",
   "execution_count": 7,
   "metadata": {},
   "outputs": [],
   "source": [
    "transcripts['similar_articles_unigram']=[get_similar_articles(x) for x in sim_unigram]"
   ]
  },
  {
   "cell_type": "code",
   "execution_count": 8,
   "metadata": {},
   "outputs": [
    {
     "data": {
      "text/plain": [
       "'GOOD'"
      ]
     },
     "execution_count": 8,
     "metadata": {},
     "output_type": "execute_result"
    }
   ],
   "source": [
    "transcripts['title'].str.replace(\"_\",\" \").str.upper().str.strip()[1]"
   ]
  },
  {
   "cell_type": "code",
   "execution_count": 9,
   "metadata": {},
   "outputs": [
    {
     "data": {
      "text/plain": [
       "['23776                   MIGHT BE GOOD',\n",
       " \"23754                       IT'S GOOD\",\n",
       " '62768    NOT AS GOOD AS THE FIRST ONE',\n",
       " '62882    NOT AS GOOD AS THE FIRST ONE',\n",
       " 'NAME: TITLE DTYPE: OBJECT']"
      ]
     },
     "execution_count": 9,
     "metadata": {},
     "output_type": "execute_result"
    }
   ],
   "source": [
    "transcripts['similar_articles_unigram'].str.replace(\",\",\"\").str.upper().str.strip().str.split(\"\\n\")[1]"
   ]
  }
 ],
 "metadata": {
  "kernelspec": {
   "display_name": "Python 3",
   "language": "python",
   "name": "python3"
  },
  "language_info": {
   "codemirror_mode": {
    "name": "ipython",
    "version": 3
   },
   "file_extension": ".py",
   "mimetype": "text/x-python",
   "name": "python",
   "nbconvert_exporter": "python",
   "pygments_lexer": "ipython3",
   "version": "3.6.4"
  }
 },
 "nbformat": 4,
 "nbformat_minor": 2
}
